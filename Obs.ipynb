{
 "cells": [
  {
   "cell_type": "code",
   "execution_count": 1,
   "metadata": {
    "scrolled": true
   },
   "outputs": [
    {
     "name": "stdout",
     "output_type": "stream",
     "text": [
      "pygame 1.9.6\n",
      "Hello from the pygame community. https://www.pygame.org/contribute.html\n"
     ]
    }
   ],
   "source": [
    "import pygame\n",
    "import pygame.freetype\n",
    "import sys\n",
    "import numpy as np\n",
    "import time\n",
    "import matplotlib as mpl\n",
    "import matplotlib.pyplot as plt\n",
    "import numpy as np\n",
    "import time, sys, random, pylab\n",
    "\n",
    "from math import fabs\n",
    "from tqdm.notebook import tqdm, trange\n",
    "from random import randrange\n",
    "from hrr import *\n",
    "from IPython.display import clear_output\n",
    "from sys import argv\n",
    "from pygame.locals import *\n",
    "\n",
    "np.set_printoptions(threshold=np.inf)"
   ]
  },
  {
   "cell_type": "code",
   "execution_count": 2,
   "metadata": {},
   "outputs": [],
   "source": [
    "pygame.init()\n",
    "pygame.font.init()\n",
    "pygame.display.set_caption(\"Observable Task\")"
   ]
  },
  {
   "cell_type": "code",
   "execution_count": 3,
   "metadata": {},
   "outputs": [],
   "source": [
    "def create_map():\n",
    "    tile_rects = []\n",
    "    for y, layer in enumerate(game_map):\n",
    "        for x, tile in enumerate(layer):  \n",
    "            display.blit(dirt_img,(x*16,y*16)) if tile == '1' else tile_rects.append(pygame.Rect(x*16,y*16,16,16))\n",
    "    return tile_rects"
   ]
  },
  {
   "cell_type": "code",
   "execution_count": 4,
   "metadata": {},
   "outputs": [],
   "source": [
    "def set_text(goal, context):\n",
    "    display.blit(font.render('Goal: {0}'.format(goal), False, (0, 0, 0)), (10,20))\n",
    "    display.blit(font.render('Context: {0}'.format(goal), False, (0, 0, 0)), (10,35))\n",
    "    [display.blit(font.render('{0}'.format(i), False, (0, 0, 0)), (20+i*32,142)) for i in range(10)]"
   ]
  },
  {
   "cell_type": "code",
   "execution_count": 5,
   "metadata": {},
   "outputs": [],
   "source": [
    "def move(event, player_rect, position):\n",
    "    not_done = True\n",
    "    if event.type == QUIT:\n",
    "        not_done = False\n",
    "    if event.type == KEYDOWN:\n",
    "        if event.key == K_RIGHT:\n",
    "            position = 0 if position == 9 else position + 1\n",
    "            player_rect = pygame.Rect(positions[position][0],positions[position][1],5,13)\n",
    "        if event.key == K_LEFT:\n",
    "            position = 9 if position == 0 else position - 1\n",
    "            player_rect = pygame.Rect(positions[position][0],positions[position][1],5,13)\n",
    "    return not_done, player_rect, position"
   ]
  },
  {
   "cell_type": "code",
   "execution_count": 6,
   "metadata": {},
   "outputs": [],
   "source": [
    "def update():\n",
    "    screen.blit(pygame.transform.scale(display,window_size),(0,0))\n",
    "    pygame.display.update()\n",
    "    clock.tick(fps)"
   ]
  },
  {
   "cell_type": "code",
   "execution_count": 7,
   "metadata": {},
   "outputs": [],
   "source": [
    "def check_goal(state, goal):\n",
    "    return False if state == goal else True"
   ]
  },
  {
   "cell_type": "code",
   "execution_count": 8,
   "metadata": {},
   "outputs": [],
   "source": [
    "def update_progress(progress, episode):\n",
    "    bar_length = 50\n",
    "    if isinstance(progress, int):\n",
    "        progress = float(progress)\n",
    "    if not isinstance(progress, float):\n",
    "        progress = 0\n",
    "    if progress < 0:\n",
    "        progress = 0\n",
    "    if progress >= 1:\n",
    "        progress = 1\n",
    "\n",
    "    block = int(round(bar_length * progress))\n",
    "\n",
    "    clear_output(wait = True)\n",
    "    text = \"Episode {0}, Progress: [{1}] {2:.1f}%\".format(episode, \"=\" * block + \".\" * (bar_length - block), progress * 100)\n",
    "    print(text)"
   ]
  },
  {
   "cell_type": "code",
   "execution_count": 9,
   "metadata": {},
   "outputs": [],
   "source": [
    "def get_moves(state, size_of_maze):\n",
    "    if(state == 0):\n",
    "        return size_of_maze - 1, 1\n",
    "    elif(state == size_of_maze - 1):\n",
    "        return size_of_maze - 2, 0\n",
    "    else:\n",
    "        return state - 1, state + 1"
   ]
  },
  {
   "cell_type": "code",
   "execution_count": 10,
   "metadata": {},
   "outputs": [],
   "source": [
    "def build_hrr_string(wm, signal, state, atr):\n",
    "    if wm == \"I\" and signal == \"I\":\n",
    "        return \"State:\" + str(state) + \"*\" + \"Atr:\" + str(atr)\n",
    "    elif wm == \"I\":\n",
    "        return \"Signal:\" + str(signal) + \"*\" + \"State:\" + str(state) + \"*\" + \"Atr:\" + str(atr)\n",
    "    elif signal == \"I\":\n",
    "        return \"WM:\" + str(wm) + \"*\" + \"State:\" + str(state) + \"*\" + \"Atr:\" + str(atr)\n",
    "    else:\n",
    "        return \"WM:\" + str(wm) + \"*\" + \"Signal:\" + str(signal) + \"*\" + \"State:\" + str(state) + \"*\" + \"Atr:\" + str(atr)"
   ]
  },
  {
   "cell_type": "code",
   "execution_count": 11,
   "metadata": {},
   "outputs": [],
   "source": [
    "def context_policy_negative(atr):\n",
    "    return (atr + 1)%num_of_atrs"
   ]
  },
  {
   "cell_type": "code",
   "execution_count": 12,
   "metadata": {},
   "outputs": [],
   "source": [
    "def context_policy_positive(wm, signal, state, atr):\n",
    "    val = -9999\n",
    "    for atr in range(0, num_of_atrs):\n",
    "        encode_str = build_hrr_string(wm, signal, state, atr)\n",
    "        temp = np.dot(weights, ltm.encode(encode_str)) + bias\n",
    "        if temp > val:\n",
    "            val = temp\n",
    "            s_atr = atr\n",
    "    return s_atr"
   ]
  },
  {
   "cell_type": "code",
   "execution_count": 13,
   "metadata": {},
   "outputs": [],
   "source": [
    "def reward_tkn():\n",
    "    return \"*rewardTkn\""
   ]
  },
  {
   "cell_type": "code",
   "execution_count": 14,
   "metadata": {},
   "outputs": [],
   "source": [
    "def move_policy(goal, moves, wms, signals, atr, rand_on):\n",
    "    val = -9999\n",
    "    for move in moves:\n",
    "        for wm in list(dict.fromkeys(wms + [\"I\"])):\n",
    "            for signal in list(dict.fromkeys(signals + [\"I\"])):\n",
    "                if move == goal:\n",
    "                    encode_str = build_hrr_string(wm, signal, str(move) + reward_tkn(), atr)\n",
    "                else:\n",
    "                    encode_str = build_hrr_string(wm, signal, move, atr)\n",
    "                if (debug):\n",
    "                    print(encode_str)\n",
    "                temp = np.dot(weights, ltm.encode(encode_str)) + bias\n",
    "                if debug:\n",
    "                    if signal != \"I\":\n",
    "                        print(\"Move: {0}, WM: {1}, Signal: {2}In, Atr: {3}, Value: {4}\".format(move, wm, signal, atr, temp))\n",
    "                    else:\n",
    "                        print(\"Move: {0}, WM: {1}, Signal: {2}, Atr: {3}, Value: {4}\".format(move, wm, signal, atr, temp))\n",
    "                if temp > val:\n",
    "                    val = temp\n",
    "                    s_move = move\n",
    "                    if signal != \"I\":\n",
    "                        s_wm = signal + \"In\"\n",
    "                    else:\n",
    "                        s_wm = wm\n",
    "    if(np.random.random_sample() < e_soft) and rand_on:\n",
    "        if(debug):\n",
    "            print(\"RANDOM MOVE\")\n",
    "        return (np.random.choice(moves), wm, atr, True)\n",
    "    \n",
    "    return (s_move, s_wm, atr, False)"
   ]
  },
  {
   "cell_type": "code",
   "execution_count": 15,
   "metadata": {},
   "outputs": [],
   "source": [
    "def logmod(x):\n",
    "    return np.sign(x)*np.log(abs(x)+1)"
   ]
  },
  {
   "cell_type": "code",
   "execution_count": 16,
   "metadata": {},
   "outputs": [],
   "source": [
    "def get_opt_steps(start, goal, size_of_maze):\n",
    "    opt = abs(goal - start)\n",
    "    if opt > size_of_maze / 2:\n",
    "        opt = size_of_maze - opt\n",
    "    return opt"
   ]
  },
  {
   "cell_type": "code",
   "execution_count": 17,
   "metadata": {},
   "outputs": [],
   "source": [
    "def start_testing():\n",
    "    global testing, rand_on, alpha, threshold_alpha, atr_alpha\n",
    "    testing = True\n",
    "    rand_on = 0\n",
    "    alpha = 0.01\n",
    "    threshold_alpha = 0\n",
    "    atr_alpha = 0"
   ]
  },
  {
   "cell_type": "code",
   "execution_count": 18,
   "metadata": {},
   "outputs": [],
   "source": [
    "def reset():\n",
    "    global num_of_atrs, atr_values, threshold, hrr_length, ltm, weights, eligibility\n",
    "    num_of_atrs += 1\n",
    "    atr_values = [1 * reward_good] * num_of_atrs\n",
    "    if dynamic_threshold:\n",
    "        threshold = 1\n",
    "    hrr_length = (num_of_atrs * hrr_length) / (num_of_atrs - 1)\n",
    "    del ltm\n",
    "    ltm = LTM(int(hrr_length), normalized)\n",
    "    weights = hrr(int(hrr_length), normalized)\n",
    "    eligibility = np.zeros(int(hrr_length))"
   ]
  },
  {
   "cell_type": "code",
   "execution_count": 19,
   "metadata": {},
   "outputs": [],
   "source": [
    "def accuracy(step_store):\n",
    "    return (len(step_store)-np.count_nonzero(step_store))*100.0 / len(step_store)"
   ]
  },
  {
   "cell_type": "code",
   "execution_count": 20,
   "metadata": {},
   "outputs": [],
   "source": [
    "font = pygame.font.SysFont('arialblack', 12)"
   ]
  },
  {
   "cell_type": "code",
   "execution_count": 21,
   "metadata": {},
   "outputs": [],
   "source": [
    "not_done = True\n",
    "not_goal = True"
   ]
  },
  {
   "cell_type": "code",
   "execution_count": 22,
   "metadata": {},
   "outputs": [],
   "source": [
    "window_size = (672,320)\n",
    "sky_color = (146,244,255)"
   ]
  },
  {
   "cell_type": "code",
   "execution_count": 23,
   "metadata": {},
   "outputs": [],
   "source": [
    "fps = 144\n",
    "position = np.random.randint(0,10)"
   ]
  },
  {
   "cell_type": "code",
   "execution_count": 24,
   "metadata": {},
   "outputs": [],
   "source": [
    "screen = pygame.display.set_mode(window_size,0,32)\n",
    "display = pygame.Surface((window_size[0]/2,window_size[1]/2)) \n",
    "clock = pygame.time.Clock()"
   ]
  },
  {
   "cell_type": "code",
   "execution_count": 25,
   "metadata": {},
   "outputs": [],
   "source": [
    "dirt_img = pygame.image.load('images/metal.png')\n",
    "player_img = pygame.image.load('images/player.png').convert()\n",
    "player_img.set_colorkey((255,255,255))"
   ]
  },
  {
   "cell_type": "code",
   "execution_count": 26,
   "metadata": {
    "scrolled": true
   },
   "outputs": [],
   "source": [
    "game_map = [['0'] * 21] * 9\n",
    "game_map.append(['1'] * 21)"
   ]
  },
  {
   "cell_type": "code",
   "execution_count": 27,
   "metadata": {},
   "outputs": [],
   "source": [
    "positions = [(23, 130), \n",
    "            (55, 130),\n",
    "            (85, 130),\n",
    "            (117, 130),\n",
    "            (149, 130),\n",
    "            (181, 130),\n",
    "            (212, 130),\n",
    "            (245, 130),\n",
    "            (277, 130),\n",
    "            (309, 130),]"
   ]
  },
  {
   "cell_type": "code",
   "execution_count": 28,
   "metadata": {},
   "outputs": [],
   "source": [
    "player_rect = pygame.Rect(positions[position][0],positions[position][1],5,13)"
   ]
  },
  {
   "cell_type": "code",
   "execution_count": 29,
   "metadata": {},
   "outputs": [],
   "source": [
    "game = {\n",
    "  \"red\": {\n",
    "      \"color\": \"red\",\n",
    "      \"color_rgb\": (255,0,0),\n",
    "      \"context\": 0,\n",
    "      \"goal\": 0\n",
    "  },\n",
    "  \"blue\": {\n",
    "      \"color\": \"blue\",\n",
    "      \"color_rgb\": (0,0,255),\n",
    "      \"context\": 0,\n",
    "      \"goal\": 5\n",
    "  },\n",
    "  \"green\": {\n",
    "      \"color\": \"green\",\n",
    "      \"color_rgb\": (0,255,0),\n",
    "      \"context\": 0,\n",
    "      \"goal\": 8\n",
    "  },\n",
    "  \"goals\": [0, 5, 8]\n",
    "}\n",
    "\n",
    "colors = list(game)[:-1]\n",
    "goals = game['goals']"
   ]
  },
  {
   "cell_type": "code",
   "execution_count": 30,
   "metadata": {},
   "outputs": [],
   "source": [
    "# Number of training cycles\n",
    "episodes = 100000\n",
    "\n",
    "# Hrr parameters\n",
    "hrr_length = 1024\n",
    "normalized = True\n",
    "\n",
    "# How many steps to take before quiting\n",
    "steps_till_quit = 100\n",
    "\n",
    "# Task\n",
    "signals = colors\n",
    "goals_task = [goals]\n",
    "\n",
    "# Maze parameters\n",
    "size_of_maze = 10\n",
    "non_obs_task_switch_rate = 1000\n",
    "num_non_obs_tasks = len(goals_task)\n",
    "num_obs_tasks = len(signals)\n",
    "\n",
    "# Arguments for neural network\n",
    "input_size = hrr_length\n",
    "output_size = 1\n",
    "discount = 0.9\n",
    "alpha = 0.1\n",
    "\n",
    "# Reward for temporal difference learning\n",
    "reward_bad = -1\n",
    "reward_good = 0\n",
    "\n",
    "# Dynamic atrs hyperparameters\n",
    "num_of_atrs = 1\n",
    "atr_alpha = 0.00001\n",
    "atr_values = (np.ones(num_of_atrs) * reward_good).tolist()\n",
    "atr_threshold = -0.5\n",
    "threshold_vals = []\n",
    "\n",
    "# Threshold for non observable task switching\n",
    "threshold = 0.3\n",
    "dynamic_threshold = False\n",
    "\n",
    "# Expolration rate\n",
    "e_soft = 0.00001\n",
    "rand_on = 1\n",
    "\n",
    "# Eligibility trace rate\n",
    "eli_lambda = 0.01\n",
    "\n",
    "# Neural network\n",
    "weights = hrr(hrr_length, normalized)\n",
    "bias = 1\n",
    "\n",
    "# Eligibility trace\n",
    "eligibility = np.zeros(hrr_length)\n",
    "\n",
    "# Accurcay test percentage\n",
    "percent_check = 9\n",
    "\n",
    "# Start values for the agent\n",
    "non_obs = 0\n",
    "current_atr = 0\n",
    "current_wm = \"I\"\n",
    "changed = False\n",
    "\n",
    "# Flag for printing values\n",
    "debug = False\n",
    "testing = False\n",
    "\n",
    "step_store = []\n",
    "\n",
    "# Ltm is created\n",
    "ltm = LTM(hrr_length, normalized)\n",
    "\n",
    "play = False"
   ]
  },
  {
   "cell_type": "code",
   "execution_count": 31,
   "metadata": {},
   "outputs": [],
   "source": [
    "if play:\n",
    "    color = colors[np.random.randint(len(colors))]\n",
    "    task = game[color]\n",
    "    sky = task['color_rgb']\n",
    "    goal = task['goal']\n",
    "    context = task['context']"
   ]
  },
  {
   "cell_type": "code",
   "execution_count": 32,
   "metadata": {},
   "outputs": [],
   "source": [
    "if play:\n",
    "    while not_done and not_goal:\n",
    "        display.fill(sky)\n",
    "        tile_rects = create_map()\n",
    "        set_text(goal, context)\n",
    "\n",
    "        for event in pygame.event.get():\n",
    "            if event.type == KEYDOWN:\n",
    "                sky = sky_color\n",
    "            not_done, player_rect, position = move(event, player_rect, position)\n",
    "            not_goal = check_goal(positions[position], positions[goal])\n",
    "\n",
    "        display.blit(player_img,(player_rect.x,player_rect.y))\n",
    "        update()\n",
    "        if not not_goal:\n",
    "            display.blit(font.render('You have reached the goal!'.format(goal), False, (0, 0, 0)), (90, 70))\n",
    "            update()\n",
    "            time.sleep(2)\n",
    "    pygame.quit()"
   ]
  },
  {
   "cell_type": "code",
   "execution_count": 33,
   "metadata": {},
   "outputs": [
    {
     "data": {
      "application/vnd.jupyter.widget-view+json": {
       "model_id": "983c270f018c4770b1e75f150e517446",
       "version_major": 2,
       "version_minor": 0
      },
      "text/plain": [
       "HBox(children=(FloatProgress(value=0.0, description='Episode', max=100000.0, style=ProgressStyle(description_w…"
      ]
     },
     "metadata": {},
     "output_type": "display_data"
    },
    {
     "name": "stdout",
     "output_type": "stream",
     "text": [
      "\n",
      "100.0\n"
     ]
    }
   ],
   "source": [
    "for x in trange(episodes, desc=\"Episode\"):\n",
    "\n",
    "    current_state = random.randint(0, size_of_maze - 1)\n",
    "    start = current_state\n",
    "    current_signal = np.random.choice(signals)\n",
    "    eligibility *= 0.0\n",
    "    \n",
    "    changed = False\n",
    "\n",
    "    if x%non_obs_task_switch_rate == 0:\n",
    "        non_obs = (non_obs+1)%len(goals_task)\n",
    "        changed = True\n",
    "    if num_obs_tasks == 1:\n",
    "        goal = goals_task[non_obs][0]\n",
    "    else:\n",
    "        goal = goals_task[non_obs][signals.index(current_signal)]\n",
    "        \n",
    "    steps = 0\n",
    "    opt_steps = get_opt_steps(current_state, goal, size_of_maze)\n",
    "\n",
    "    if testing == False and x > ((episodes*percent_check) / 10):\n",
    "        start_testing()\n",
    "        \n",
    "    for y in range(steps_till_quit):\n",
    "        if (current_state == goal):\n",
    "            encode_str = build_hrr_string(current_wm, current_signal, str(current_state) + reward_tkn(), current_atr)\n",
    "            goal_hrr = ltm.encode(encode_str)\n",
    "            goal_value = np.dot(weights, goal_hrr) + bias\n",
    "\n",
    "            error = reward_good - goal_value\n",
    "            eligibility *= eli_lambda\n",
    "            eligibility = eligibility + goal_hrr\n",
    "            weights = np.add(weights, (alpha * logmod(error) * eligibility))\n",
    "            \n",
    "            if dynamic_threshold:\n",
    "                threshold += threshold_alpha * logmod(error)\n",
    "                \n",
    "            atr_values[current_atr] += atr_alpha * logmod(error)            \n",
    "            break\n",
    "     \n",
    "        previous_wm = current_wm\n",
    "        previous_signal = current_signal\n",
    "        previous_state = current_state\n",
    "        previous_atr = current_atr\n",
    "        \n",
    "        encode_str = build_hrr_string(previous_wm, previous_signal, previous_state, previous_atr)\n",
    "        previous_state_hrr = ltm.encode(encode_str)\n",
    "        previous_value = np.dot(weights, previous_state_hrr) + bias\n",
    "            \n",
    "        current_signal = \"I\"\n",
    "        left, right = get_moves(previous_state, size_of_maze)\n",
    "        if previous_signal != \"I\":\n",
    "            previous_signal += \"In\"\n",
    "\n",
    "        move, wm, current_atr, random_move = move_policy(goal, [left, right], [previous_wm, previous_signal], [current_signal], previous_atr, rand_on)\n",
    "        steps += 1\n",
    "        current_wm = wm\n",
    "        current_state = move\n",
    "        \n",
    "        if random_move:\n",
    "            eligibility *= 0.0\n",
    "            \n",
    "        if current_state == goal:\n",
    "            encode_str = build_hrr_string(current_wm, current_signal, str(current_state) + reward_tkn(), current_atr)     \n",
    "            if debug:\n",
    "                print(\"In goal: WM: {1}, ATR: {2}\".format(current_wm, current_atr))\n",
    "        else:\n",
    "            encode_str = build_hrr_string(current_wm, current_signal, current_state, current_atr)\n",
    "            \n",
    "        current_state_hrr = ltm.encode(encode_str)\n",
    "        current_value = np.dot(weights, current_state_hrr) + bias\n",
    "        \n",
    "        sarsa_error = (reward_bad + discount * current_value) - previous_value\n",
    "        eligibility *= eli_lambda\n",
    "        eligibility = eligibility + previous_state_hrr\n",
    "        weights = np.add(weights, (alpha * logmod(sarsa_error) * eligibility))\n",
    "\n",
    "        atr_values[current_atr] += atr_alpha * logmod(sarsa_error)\n",
    "        \n",
    "        if dynamic_threshold:\n",
    "            threshold += threshold_alpha * logmod(sarsa_error)\n",
    "        \n",
    "        if sarsa_error > fabs(threshold) or sarsa_error < -fabs(threshold):\n",
    "            \n",
    "            if np.mean(atr_values) < atr_threshold:\n",
    "                reset()\n",
    "                \n",
    "            if sarsa_error > fabs(threshold):\n",
    "                current_atr = context_policy_positive(current_wm, current_signal, current_state, current_atr)\n",
    "            elif sarsa_error < -fabs(threshold):\n",
    "                current_atr = context_policy_negative(previous_atr)\n",
    "            \n",
    "            eligibility *= 0.0\n",
    "            \n",
    "            if changed:\n",
    "                steps = 0\n",
    "                start = current_state\n",
    "                opt_steps = get_opt_steps(current_state, goal, size_of_maze)\n",
    "        \n",
    "    if testing:\n",
    "        if current_state == goal:\n",
    "            step_store += [steps - opt_steps]\n",
    "        else:\n",
    "            step_store += [steps_till_quit]\n",
    "            \n",
    "print(accuracy(step_store))"
   ]
  }
 ],
 "metadata": {
  "kernelspec": {
   "display_name": "Python 3",
   "language": "python",
   "name": "python3"
  },
  "language_info": {
   "codemirror_mode": {
    "name": "ipython",
    "version": 3
   },
   "file_extension": ".py",
   "mimetype": "text/x-python",
   "name": "python",
   "nbconvert_exporter": "python",
   "pygments_lexer": "ipython3",
   "version": "3.7.6"
  }
 },
 "nbformat": 4,
 "nbformat_minor": 4
}
