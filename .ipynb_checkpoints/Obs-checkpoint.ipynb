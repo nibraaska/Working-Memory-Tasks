{
 "cells": [
  {
   "cell_type": "code",
   "execution_count": 1,
   "metadata": {},
   "outputs": [
    {
     "name": "stdout",
     "output_type": "stream",
     "text": [
      "pygame 1.9.6\n",
      "Hello from the pygame community. https://www.pygame.org/contribute.html\n"
     ]
    }
   ],
   "source": [
    "import pygame\n",
    "import pygame.freetype\n",
    "import sys\n",
    "import numpy as np\n",
    "\n",
    "from pygame.locals import *"
   ]
  },
  {
   "cell_type": "code",
   "execution_count": 2,
   "metadata": {},
   "outputs": [],
   "source": [
    "pygame.init()\n",
    "pygame.font.init()\n",
    "pygame.display.set_caption(\"Observable Task\")"
   ]
  },
  {
   "cell_type": "code",
   "execution_count": 3,
   "metadata": {},
   "outputs": [],
   "source": [
    "font = pygame.font.SysFont('Comic Sans MS', 12)"
   ]
  },
  {
   "cell_type": "code",
   "execution_count": 4,
   "metadata": {},
   "outputs": [],
   "source": [
    "not_done = True"
   ]
  },
  {
   "cell_type": "code",
   "execution_count": 5,
   "metadata": {},
   "outputs": [],
   "source": [
    "window_size = (672,320)\n",
    "sky = (146,244,255)"
   ]
  },
  {
   "cell_type": "code",
   "execution_count": 6,
   "metadata": {},
   "outputs": [],
   "source": [
    "fps = 144\n",
    "position = np.random.randint(0,10)"
   ]
  },
  {
   "cell_type": "code",
   "execution_count": 7,
   "metadata": {},
   "outputs": [],
   "source": [
    "screen = pygame.display.set_mode(window_size,0,32)\n",
    "display = pygame.Surface((window_size[0]/2,window_size[1]/2)) \n",
    "clock = pygame.time.Clock()"
   ]
  },
  {
   "cell_type": "code",
   "execution_count": 8,
   "metadata": {},
   "outputs": [],
   "source": [
    "dirt_img = pygame.image.load('images/metal.png')\n",
    "player_img = pygame.image.load('images/player.png').convert()\n",
    "player_img.set_colorkey((255,255,255))"
   ]
  },
  {
   "cell_type": "code",
   "execution_count": 9,
   "metadata": {
    "scrolled": true
   },
   "outputs": [],
   "source": [
    "game_map = [['0'] * 21] * 9\n",
    "game_map.append(['1'] * 21)"
   ]
  },
  {
   "cell_type": "code",
   "execution_count": 10,
   "metadata": {},
   "outputs": [],
   "source": [
    "positions = [(23, 130), \n",
    "            (55, 130),\n",
    "            (85, 130),\n",
    "            (117, 130),\n",
    "            (149, 130),\n",
    "            (181, 130),\n",
    "            (212, 130),\n",
    "            (245, 130),\n",
    "            (277, 130),\n",
    "            (309, 130),]"
   ]
  },
  {
   "cell_type": "code",
   "execution_count": 11,
   "metadata": {},
   "outputs": [],
   "source": [
    "player_rect = pygame.Rect(positions[position][0],positions[position][1],5,13)"
   ]
  },
  {
   "cell_type": "code",
   "execution_count": 12,
   "metadata": {},
   "outputs": [],
   "source": [
    "def create_map():\n",
    "    tile_rects = []\n",
    "    for y, layer in enumerate(game_map):\n",
    "        for x, tile in enumerate(layer):  \n",
    "            display.blit(dirt_img,(x*16,y*16)) if tile == '1' else tile_rects.append(pygame.Rect(x*16,y*16,16,16))\n",
    "    return tile_rects"
   ]
  },
  {
   "cell_type": "code",
   "execution_count": 13,
   "metadata": {},
   "outputs": [],
   "source": [
    "def set_text():\n",
    "    [display.blit(font.render('{0}'.format(i), False, (0, 0, 0)), (20+i*32,142)) for i in range(10)]"
   ]
  },
  {
   "cell_type": "code",
   "execution_count": 14,
   "metadata": {},
   "outputs": [],
   "source": [
    "def move(event, not_done, player_rect, position):\n",
    "    if event.type == QUIT:\n",
    "        not_done = False\n",
    "    if event.type == KEYDOWN:\n",
    "        if event.key == K_RIGHT:\n",
    "            if position == 9:\n",
    "                position = 0\n",
    "            else:\n",
    "                position += 1\n",
    "            player_rect = pygame.Rect(positions[position][0],positions[position][1],5,13)\n",
    "        if event.key == K_LEFT:\n",
    "            if position == 0:\n",
    "                position = 9\n",
    "            else:\n",
    "                position -= 1\n",
    "            player_rect = pygame.Rect(positions[position][0],positions[position][1],5,13)\n",
    "    return not_done, player_rect, position"
   ]
  },
  {
   "cell_type": "code",
   "execution_count": 15,
   "metadata": {},
   "outputs": [],
   "source": [
    "while not_done:\n",
    "    display.fill(sky)\n",
    "\n",
    "    tile_rects = create_map()\n",
    "    set_text()\n",
    "    display.blit(player_img,(player_rect.x,player_rect.y))\n",
    "\n",
    "    for event in pygame.event.get():\n",
    "        not_done, player_rect, position = move(event, not_done, player_rect, position)\n",
    "        \n",
    "    screen.blit(pygame.transform.scale(display,window_size),(0,0))\n",
    "    pygame.display.update()\n",
    "    clock.tick(fps)\n",
    "pygame.quit()"
   ]
  },
  {
   "cell_type": "code",
   "execution_count": null,
   "metadata": {},
   "outputs": [],
   "source": []
  },
  {
   "cell_type": "code",
   "execution_count": null,
   "metadata": {},
   "outputs": [],
   "source": []
  },
  {
   "cell_type": "code",
   "execution_count": null,
   "metadata": {},
   "outputs": [],
   "source": []
  }
 ],
 "metadata": {
  "kernelspec": {
   "display_name": "Python 3",
   "language": "python",
   "name": "python3"
  },
  "language_info": {
   "codemirror_mode": {
    "name": "ipython",
    "version": 3
   },
   "file_extension": ".py",
   "mimetype": "text/x-python",
   "name": "python",
   "nbconvert_exporter": "python",
   "pygments_lexer": "ipython3",
   "version": "3.7.6"
  }
 },
 "nbformat": 4,
 "nbformat_minor": 4
}
