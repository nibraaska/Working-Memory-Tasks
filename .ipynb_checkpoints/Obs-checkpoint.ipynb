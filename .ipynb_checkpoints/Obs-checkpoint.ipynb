{
 "cells": [
  {
   "cell_type": "code",
   "execution_count": 1,
   "metadata": {},
   "outputs": [
    {
     "name": "stdout",
     "output_type": "stream",
     "text": [
      "pygame 1.9.6\n",
      "Hello from the pygame community. https://www.pygame.org/contribute.html\n"
     ]
    }
   ],
   "source": [
    "import pygame\n",
    "import pygame.freetype\n",
    "import sys\n",
    "import numpy as np\n",
    "import time\n",
    "\n",
    "from pygame.locals import *"
   ]
  },
  {
   "cell_type": "code",
   "execution_count": 2,
   "metadata": {},
   "outputs": [],
   "source": [
    "pygame.init()\n",
    "pygame.font.init()\n",
    "pygame.display.set_caption(\"Observable Task\")"
   ]
  },
  {
   "cell_type": "code",
   "execution_count": 3,
   "metadata": {},
   "outputs": [],
   "source": [
    "def create_map():\n",
    "    tile_rects = []\n",
    "    for y, layer in enumerate(game_map):\n",
    "        for x, tile in enumerate(layer):  \n",
    "            display.blit(dirt_img,(x*16,y*16)) if tile == '1' else tile_rects.append(pygame.Rect(x*16,y*16,16,16))\n",
    "    return tile_rects"
   ]
  },
  {
   "cell_type": "code",
   "execution_count": 4,
   "metadata": {},
   "outputs": [],
   "source": [
    "def set_text(goal, context):\n",
    "    display.blit(font.render('Goal: {0}'.format(goal), False, (0, 0, 0)), (10,20))\n",
    "    display.blit(font.render('Context: {0}'.format(goal), False, (0, 0, 0)), (10,35))\n",
    "    [display.blit(font.render('{0}'.format(i), False, (0, 0, 0)), (20+i*32,142)) for i in range(10)]"
   ]
  },
  {
   "cell_type": "code",
   "execution_count": 5,
   "metadata": {},
   "outputs": [],
   "source": [
    "def move(event, player_rect, position):\n",
    "    not_done = True\n",
    "    if event.type == QUIT:\n",
    "        not_done = False\n",
    "    if event.type == KEYDOWN:\n",
    "        if event.key == K_RIGHT:\n",
    "            position = 0 if position == 9 else position + 1\n",
    "            player_rect = pygame.Rect(positions[position][0],positions[position][1],5,13)\n",
    "        if event.key == K_LEFT:\n",
    "            position = 9 if position == 0 else position - 1\n",
    "            player_rect = pygame.Rect(positions[position][0],positions[position][1],5,13)\n",
    "    return not_done, player_rect, position"
   ]
  },
  {
   "cell_type": "code",
   "execution_count": 6,
   "metadata": {},
   "outputs": [],
   "source": [
    "def update():\n",
    "    screen.blit(pygame.transform.scale(display,window_size),(0,0))\n",
    "    pygame.display.update()\n",
    "    clock.tick(fps)"
   ]
  },
  {
   "cell_type": "code",
   "execution_count": 7,
   "metadata": {},
   "outputs": [],
   "source": [
    "def check_goal(state, goal):\n",
    "    if state == goal:\n",
    "        return False\n",
    "    else:\n",
    "        return True"
   ]
  },
  {
   "cell_type": "code",
   "execution_count": 8,
   "metadata": {},
   "outputs": [],
   "source": [
    "font = pygame.font.SysFont('arialblack', 12)"
   ]
  },
  {
   "cell_type": "code",
   "execution_count": 9,
   "metadata": {},
   "outputs": [],
   "source": [
    "not_done = True\n",
    "not_goal = True"
   ]
  },
  {
   "cell_type": "code",
   "execution_count": 10,
   "metadata": {},
   "outputs": [],
   "source": [
    "window_size = (672,320)\n",
    "sky_color = (146,244,255)"
   ]
  },
  {
   "cell_type": "code",
   "execution_count": 11,
   "metadata": {},
   "outputs": [],
   "source": [
    "fps = 144\n",
    "position = np.random.randint(0,10)"
   ]
  },
  {
   "cell_type": "code",
   "execution_count": 12,
   "metadata": {},
   "outputs": [],
   "source": [
    "screen = pygame.display.set_mode(window_size,0,32)\n",
    "display = pygame.Surface((window_size[0]/2,window_size[1]/2)) \n",
    "clock = pygame.time.Clock()"
   ]
  },
  {
   "cell_type": "code",
   "execution_count": 13,
   "metadata": {},
   "outputs": [],
   "source": [
    "dirt_img = pygame.image.load('images/metal.png')\n",
    "player_img = pygame.image.load('images/player.png').convert()\n",
    "player_img.set_colorkey((255,255,255))"
   ]
  },
  {
   "cell_type": "code",
   "execution_count": 14,
   "metadata": {
    "scrolled": true
   },
   "outputs": [],
   "source": [
    "game_map = [['0'] * 21] * 9\n",
    "game_map.append(['1'] * 21)"
   ]
  },
  {
   "cell_type": "code",
   "execution_count": 15,
   "metadata": {},
   "outputs": [],
   "source": [
    "positions = [(23, 130), \n",
    "            (55, 130),\n",
    "            (85, 130),\n",
    "            (117, 130),\n",
    "            (149, 130),\n",
    "            (181, 130),\n",
    "            (212, 130),\n",
    "            (245, 130),\n",
    "            (277, 130),\n",
    "            (309, 130),]"
   ]
  },
  {
   "cell_type": "code",
   "execution_count": 16,
   "metadata": {},
   "outputs": [],
   "source": [
    "player_rect = pygame.Rect(positions[position][0],positions[position][1],5,13)"
   ]
  },
  {
   "cell_type": "code",
   "execution_count": 17,
   "metadata": {},
   "outputs": [],
   "source": [
    "game = {\n",
    "  \"red\": {\n",
    "      \"color\": \"red\",\n",
    "      \"color_rgb\": (255,0,0),\n",
    "      \"context\": 0,\n",
    "      \"goal\": 2\n",
    "  },\n",
    "  \"blue\": {\n",
    "      \"color\": \"blue\",\n",
    "      \"color_rgb\": (0,0,255),\n",
    "      \"context\": 0,\n",
    "      \"goal\": 5\n",
    "  },\n",
    "  \"green\": {\n",
    "      \"color\": \"green\",\n",
    "      \"color_rgb\": (0,255,0),\n",
    "      \"context\": 0,\n",
    "      \"goal\": 8\n",
    "  }\n",
    "}\n",
    "\n",
    "colors = list(game)"
   ]
  },
  {
   "cell_type": "code",
   "execution_count": 18,
   "metadata": {},
   "outputs": [],
   "source": [
    "color = colors[np.random.randint(len(colors))]\n",
    "task = game[color]\n",
    "sky = task['color_rgb']\n",
    "goal = task['goal']\n",
    "context = task['context']"
   ]
  },
  {
   "cell_type": "code",
   "execution_count": 19,
   "metadata": {},
   "outputs": [],
   "source": [
    "while not_done and not_goal:\n",
    "    display.fill(sky)\n",
    "    tile_rects = create_map()\n",
    "    set_text(goal, context)\n",
    "\n",
    "    for event in pygame.event.get():\n",
    "        if event.type == KEYDOWN:\n",
    "            sky = sky_color\n",
    "        not_done, player_rect, position = move(event, player_rect, position)\n",
    "        not_goal = check_goal(positions[position], positions[goal])\n",
    "\n",
    "    display.blit(player_img,(player_rect.x,player_rect.y))\n",
    "    update()\n",
    "    if not not_goal:\n",
    "        display.blit(font.render('You have reached the goal!'.format(goal), False, (0, 0, 0)), (90, 70))\n",
    "        update()\n",
    "        time.sleep(2)\n",
    "pygame.quit()"
   ]
  }
 ],
 "metadata": {
  "kernelspec": {
   "display_name": "Python 3",
   "language": "python",
   "name": "python3"
  },
  "language_info": {
   "codemirror_mode": {
    "name": "ipython",
    "version": 3
   },
   "file_extension": ".py",
   "mimetype": "text/x-python",
   "name": "python",
   "nbconvert_exporter": "python",
   "pygments_lexer": "ipython3",
   "version": "3.7.6"
  }
 },
 "nbformat": 4,
 "nbformat_minor": 4
}
