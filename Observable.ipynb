{
 "cells": [
  {
   "cell_type": "code",
   "execution_count": 1,
   "metadata": {},
   "outputs": [
    {
     "name": "stdout",
     "output_type": "stream",
     "text": [
      "pygame 1.9.6\n",
      "Hello from the pygame community. https://www.pygame.org/contribute.html\n"
     ]
    }
   ],
   "source": [
    "import pygame\n",
    "import sys\n",
    "\n",
    "from pygame.locals import *"
   ]
  },
  {
   "cell_type": "code",
   "execution_count": 2,
   "metadata": {},
   "outputs": [],
   "source": [
    "pygame.init()\n",
    "pygame.display.set_caption(\"Observable Task\")"
   ]
  },
  {
   "cell_type": "code",
   "execution_count": 3,
   "metadata": {},
   "outputs": [],
   "source": [
    "WINDOW_SIZE = (1000, 500)\n",
    "FPS = 144\n",
    "moving_right = False\n",
    "moving_left = False\n",
    "player_location = [50,50]\n",
    "player_y_momentum = 0"
   ]
  },
  {
   "cell_type": "code",
   "execution_count": 4,
   "metadata": {},
   "outputs": [],
   "source": [
    "screen = pygame.display.set_mode(WINDOW_SIZE, 0, 32)\n",
    "clock = pygame.time.Clock()\n",
    "player_image = pygame.image.load('images/robot.png').convert_alpha()\n",
    "player_image = pygame.transform.scale(player_image, (128, 256))\n",
    "\n",
    "player_rect = pygame.Rect(player_location[0],player_location[1],player_image.get_width(),player_image.get_height())\n",
    "test_rect = pygame.Rect(100,100,100,50)"
   ]
  },
  {
   "cell_type": "code",
   "execution_count": 5,
   "metadata": {},
   "outputs": [
    {
     "ename": "SystemExit",
     "evalue": "",
     "output_type": "error",
     "traceback": [
      "An exception has occurred, use %tb to see the full traceback.\n",
      "\u001b[1;31mSystemExit\u001b[0m\n"
     ]
    },
    {
     "name": "stderr",
     "output_type": "stream",
     "text": [
      "C:\\Users\\nnibr\\anaconda3\\lib\\site-packages\\IPython\\core\\interactiveshell.py:3339: UserWarning: To exit: use 'exit', 'quit', or Ctrl-D.\n",
      "  warn(\"To exit: use 'exit', 'quit', or Ctrl-D.\", stacklevel=1)\n"
     ]
    }
   ],
   "source": [
    "while True:\n",
    "    screen.fill((146,244,255))\n",
    "    screen.blit(player_image,player_location)\n",
    "    \n",
    "    if player_location[1] > WINDOW_SIZE[1]-player_image.get_height():\n",
    "        player_y_momentum = -player_y_momentum\n",
    "    else:\n",
    "        player_y_momentum += 0.2\n",
    "    player_location[1] += player_y_momentum\n",
    "   \n",
    "    if moving_right == True:\n",
    "        player_location[0] += 4\n",
    "    if moving_left == True:\n",
    "        player_location[0] -= 4\n",
    " \n",
    "    player_rect.x = player_location[0]\n",
    "    player_rect.y = player_location[1]\n",
    " \n",
    "    if player_rect.colliderect(test_rect):\n",
    "        pygame.draw.rect(screen,(255,0,0),test_rect)\n",
    "    else:\n",
    "        pygame.draw.rect(screen,(0,0,0),test_rect)\n",
    "    \n",
    "    for event in pygame.event.get():\n",
    "        if event.type == QUIT:\n",
    "            pygame.quit()\n",
    "            sys.exit()\n",
    "        if event.type == KEYDOWN:\n",
    "            if event.key == K_RIGHT:\n",
    "                moving_right = True\n",
    "            if event.key == K_LEFT:\n",
    "                moving_left = True\n",
    "        if event.type == KEYUP:\n",
    "            if event.key == K_RIGHT:\n",
    "                moving_right = False\n",
    "            if event.key == K_LEFT:\n",
    "                moving_left = False\n",
    "    pygame.display.update()\n",
    "    clock.tick(FPS)"
   ]
  },
  {
   "cell_type": "code",
   "execution_count": null,
   "metadata": {},
   "outputs": [],
   "source": []
  }
 ],
 "metadata": {
  "kernelspec": {
   "display_name": "Python 3",
   "language": "python",
   "name": "python3"
  },
  "language_info": {
   "codemirror_mode": {
    "name": "ipython",
    "version": 3
   },
   "file_extension": ".py",
   "mimetype": "text/x-python",
   "name": "python",
   "nbconvert_exporter": "python",
   "pygments_lexer": "ipython3",
   "version": "3.7.6"
  }
 },
 "nbformat": 4,
 "nbformat_minor": 4
}
