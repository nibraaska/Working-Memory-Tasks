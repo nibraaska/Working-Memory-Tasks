{
 "cells": [
  {
   "cell_type": "code",
   "execution_count": 1,
   "metadata": {},
   "outputs": [
    {
     "name": "stdout",
     "output_type": "stream",
     "text": [
      "pygame 1.9.6\n",
      "Hello from the pygame community. https://www.pygame.org/contribute.html\n"
     ]
    }
   ],
   "source": [
    "import pygame\n",
    "import pygame.freetype\n",
    "import sys\n",
    "\n",
    "from pygame.locals import *"
   ]
  },
  {
   "cell_type": "code",
   "execution_count": 2,
   "metadata": {},
   "outputs": [],
   "source": [
    "pygame.init()\n",
    "pygame.font.init()\n",
    "font = pygame.font.SysFont('Comic Sans MS', 12)\n",
    "pygame.display.set_caption(\"Observable Task\")"
   ]
  },
  {
   "cell_type": "code",
   "execution_count": 3,
   "metadata": {},
   "outputs": [],
   "source": [
    "WINDOW_SIZE = (1500,300)\n",
    "screen = pygame.display.set_mode(WINDOW_SIZE,0,32)\n",
    "display = pygame.Surface((750,140)) \n",
    "moving_right = False\n",
    "moving_left = False\n",
    "not_done = True\n",
    "vertical_momentum = 0\n",
    "air_timer = 0\n",
    "FPS = 144\n",
    "player_movement = [0,0]\n",
    "clock = pygame.time.Clock()\n",
    "position = 0"
   ]
  },
  {
   "cell_type": "code",
   "execution_count": 4,
   "metadata": {},
   "outputs": [],
   "source": [
    "game_map = [['1','0','0','0','0','0','0','0','0','0','0','0','0','0','0','0','0','0','0','0','0','0','0','0','0','0','0','0','0','0','0','0','0','0','0','0','0','0','0','0','0','0','0','0','0','0','1'],\n",
    "            ['1','0','0','0','0','0','0','0','0','0','0','0','0','0','0','0','0','0','0','0','0','0','0','0','0','0','0','0','0','0','0','0','0','0','0','0','0','0','0','0','0','0','0','0','0','0','1'],\n",
    "            ['1','0','0','0','0','0','0','0','0','0','0','0','0','0','0','0','0','0','0','0','0','0','0','0','0','0','0','0','0','0','0','0','0','0','0','0','0','0','0','0','0','0','0','0','0','0','1'],\n",
    "            ['1','0','0','0','0','0','0','0','0','0','0','0','0','0','0','0','0','0','0','0','0','0','0','0','0','0','0','0','0','0','0','0','0','0','0','0','0','0','0','0','0','0','0','0','0','0','1'],\n",
    "            ['1','0','0','0','0','0','0','0','0','0','0','0','0','0','0','0','0','0','0','0','0','0','0','0','0','0','0','0','0','0','0','0','0','0','0','0','0','0','0','0','0','0','0','0','0','0','1'],\n",
    "            ['1','0','0','0','0','0','0','0','0','0','0','0','0','0','0','0','0','0','0','0','0','0','0','0','0','0','0','0','0','0','0','0','0','0','0','0','0','0','0','0','0','0','0','0','0','0','1'],\n",
    "            ['1','0','0','0','0','0','0','0','0','0','0','0','0','0','0','0','0','0','0','0','0','0','0','0','0','0','0','0','0','0','0','0','0','0','0','0','0','0','0','0','0','0','0','0','0','0','1'],\n",
    "            ['1','0','0','0','1','0','0','0','1','0','0','0','1','0','0','0','1','0','0','0','1','0','0','0','1','0','0','0','1','0','0','0','1','0','0','0','1','0','0','0','1'],\n",
    "            ['1','1','1','1','1','1','1','1','1','1','1','1','1','1','1','1','1','1','1','1','1','1','1','1','1','1','1','1','1','1','1','1','1','1','1','1','1','1','1','1','1','1','1','1','1','1','1']]"
   ]
  },
  {
   "cell_type": "code",
   "execution_count": 5,
   "metadata": {},
   "outputs": [],
   "source": [
    "positions = [(30, 115), (80, 115)]"
   ]
  },
  {
   "cell_type": "code",
   "execution_count": 6,
   "metadata": {},
   "outputs": [],
   "source": [
    "dirt_img = pygame.image.load('images/dirt.png')\n",
    "player_img = pygame.image.load('images/player.png').convert()\n",
    "player_img.set_colorkey((255,255,255))"
   ]
  },
  {
   "cell_type": "code",
   "execution_count": 7,
   "metadata": {},
   "outputs": [],
   "source": [
    "player_rect = pygame.Rect(positions[position][0],positions[position][0],5,13)"
   ]
  },
  {
   "cell_type": "code",
   "execution_count": 8,
   "metadata": {},
   "outputs": [],
   "source": [
    "def collision_test(rect,tiles):\n",
    "    hit_list = []\n",
    "    for tile in tiles:\n",
    "        if rect.colliderect(tile):\n",
    "            hit_list.append(tile)\n",
    "    return hit_list"
   ]
  },
  {
   "cell_type": "code",
   "execution_count": 9,
   "metadata": {},
   "outputs": [],
   "source": [
    "def move(rect,movement,tiles):\n",
    "    collision_types = {'top':False,'bottom':False,'right':False,'left':False}\n",
    "    rect.x += movement[0]\n",
    "    hit_list = collision_test(rect,tiles)\n",
    "    for tile in hit_list:\n",
    "        if movement[0] > 0:\n",
    "            rect.right = tile.left\n",
    "            collision_types['right'] = True\n",
    "        elif movement[0] < 0:\n",
    "            rect.left = tile.right\n",
    "            collision_types['left'] = True\n",
    "    rect.y += movement[1]\n",
    "    hit_list = collision_test(rect,tiles)\n",
    "    for tile in hit_list:\n",
    "        if movement[1] > 0:\n",
    "            rect.bottom = tile.top\n",
    "            collision_types['bottom'] = True\n",
    "        elif movement[1] < 0:\n",
    "            rect.top = tile.bottom\n",
    "            collision_types['top'] = True\n",
    "    return rect, collision_types"
   ]
  },
  {
   "cell_type": "code",
   "execution_count": 10,
   "metadata": {},
   "outputs": [],
   "source": [
    "def create_map():\n",
    "    tile_rects = []\n",
    "    y = 0\n",
    "    for layer in game_map:\n",
    "        x = 0\n",
    "        for tile in layer:\n",
    "            if tile == '1':\n",
    "                display.blit(dirt_img,(x*16,y*16))\n",
    "            if tile != '0':\n",
    "                tile_rects.append(pygame.Rect(x*16,y*16,16,16))\n",
    "            x += 1\n",
    "        y += 1\n",
    "    return tile_rects"
   ]
  },
  {
   "cell_type": "code",
   "execution_count": 11,
   "metadata": {},
   "outputs": [],
   "source": [
    "def movement():\n",
    "    global player_movement\n",
    "    global vertical_momentum\n",
    "    player_movement = [0,0]\n",
    "    if moving_right == True:\n",
    "        player_movement[0] += 2\n",
    "    if moving_left == True:\n",
    "        player_movement[0] -= 2\n",
    "    player_movement[1] += vertical_momentum\n",
    "    vertical_momentum += 0.2\n",
    "    if vertical_momentum > 3:\n",
    "        vertical_momentum = 3"
   ]
  },
  {
   "cell_type": "code",
   "execution_count": 12,
   "metadata": {},
   "outputs": [],
   "source": [
    "def gravity():\n",
    "    global air_timer\n",
    "    global vertical_momentum\n",
    "    if collisions['bottom'] == True:\n",
    "        air_timer = 0\n",
    "        vertical_momentum = 0\n",
    "    else:\n",
    "        air_timer += 1"
   ]
  },
  {
   "cell_type": "code",
   "execution_count": 13,
   "metadata": {},
   "outputs": [],
   "source": [
    "def check_keys(event):\n",
    "    global not_done\n",
    "    global moving_right\n",
    "    global moving_left\n",
    "    global air_timer\n",
    "    global vertical_momentum\n",
    "    if event.type == QUIT:\n",
    "        not_done = False\n",
    "    if event.type == KEYDOWN:\n",
    "        if event.key == K_RIGHT:\n",
    "            moving_right = True\n",
    "        if event.key == K_LEFT:\n",
    "            moving_left = True\n",
    "        if event.key == K_UP:\n",
    "            if air_timer < 6:\n",
    "                vertical_momentum = -5\n",
    "    if event.type == KEYUP:\n",
    "        if event.key == K_RIGHT:\n",
    "            moving_right = False\n",
    "        if event.key == K_LEFT:\n",
    "            moving_left = False"
   ]
  },
  {
   "cell_type": "code",
   "execution_count": 14,
   "metadata": {},
   "outputs": [],
   "source": [
    "while not_done:\n",
    "    display.fill((146,244,255))\n",
    "\n",
    "    tile_rects = create_map()\n",
    "    [display.blit(font.render('State {0}'.format(i), False, (0, 0, 0)), (20+i*50,70)) for i in range(10)]\n",
    "    movement()\n",
    "    player_rect, collisions = move(player_rect,player_movement,tile_rects)\n",
    "    position = 0\n",
    "    player_rect = pygame.Rect(positions[position][0],positions[position][1],5,13)\n",
    "    gravity()\n",
    "    display.blit(player_img,(player_rect.x,player_rect.y))\n",
    "\n",
    "    for event in pygame.event.get():\n",
    "        check_keys(event)\n",
    "        \n",
    "    screen.blit(pygame.transform.scale(display,WINDOW_SIZE),(0,0))\n",
    "    pygame.display.update()\n",
    "    pygame.display.flip()\n",
    "    clock.tick(FPS)\n",
    "pygame.quit()"
   ]
  },
  {
   "cell_type": "code",
   "execution_count": null,
   "metadata": {},
   "outputs": [],
   "source": []
  },
  {
   "cell_type": "code",
   "execution_count": null,
   "metadata": {},
   "outputs": [],
   "source": []
  }
 ],
 "metadata": {
  "kernelspec": {
   "display_name": "Python 3",
   "language": "python",
   "name": "python3"
  },
  "language_info": {
   "codemirror_mode": {
    "name": "ipython",
    "version": 3
   },
   "file_extension": ".py",
   "mimetype": "text/x-python",
   "name": "python",
   "nbconvert_exporter": "python",
   "pygments_lexer": "ipython3",
   "version": "3.7.6"
  }
 },
 "nbformat": 4,
 "nbformat_minor": 4
}
